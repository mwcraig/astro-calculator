{
 "cells": [
  {
   "cell_type": "markdown",
   "metadata": {},
   "source": [
    "# Inverse square law calculator"
   ]
  },
  {
   "cell_type": "code",
   "execution_count": null,
   "metadata": {},
   "outputs": [],
   "source": [
    "import ipywidgets as ipw\n",
    "from math import pi"
   ]
  },
  {
   "cell_type": "markdown",
   "metadata": {},
   "source": [
    "## How to enter numbers in scientific notation\n",
    "\n",
    "+ Replace \"×10\" with the letter \"E\" (or \"e\", upper and lower case are the same). \n",
    "+ For example, write $3.5 \\times 10^{-8}$ as `3.5e-8`. \n",
    "+ Another example: $9.2 \\times 10^{15} $ is `9.2e15`."
   ]
  },
  {
   "cell_type": "code",
   "execution_count": null,
   "metadata": {},
   "outputs": [],
   "source": [
    "def lum(B, d):\n",
    "    return 4 * pi * d**2 * B"
   ]
  },
  {
   "cell_type": "code",
   "execution_count": null,
   "metadata": {},
   "outputs": [],
   "source": [
    "four_pi = ipw.Label('$4 \\pi$')\n",
    "equal = ipw.Label('$=$')\n",
    "\n",
    "textbox_layout = ipw.Layout(width='12em')\n",
    "\n",
    "def new_dist():\n",
    "    return ipw.Text(description='', placeholder='Enter d (in parsec)', \n",
    "                layout=textbox_layout)\n",
    "\n",
    "def new_bright():\n",
    "    return ipw.Text(description='', placeholder='Enter B (in L_sun/pc^2)',\n",
    "                  layout=textbox_layout)\n",
    "\n",
    "def new_lum():\n",
    "    return ipw.Text(description='', placeholder='Enter L (in L_sun)',\n",
    "                  layout=textbox_layout)"
   ]
  },
  {
   "cell_type": "code",
   "execution_count": null,
   "metadata": {},
   "outputs": [],
   "source": [
    "lum_holder = ipw.VBox()\n",
    "lum_header = ipw.HTML('<h2>Calculate luminosity if you know distance and brightness</h2>')\n",
    "\n",
    "lum_version = ipw.Box()\n",
    "l_eq = ipw.Label('$L = 4\\pi d^2 B = $')\n",
    "squared = ipw.Label('$^2$')\n",
    "lum_result = ipw.Label()\n",
    "dist_lum = new_dist()\n",
    "bright = new_bright()\n",
    "lum_version.children = [l_eq, four_pi, dist_lum, squared, bright, equal, lum_result]\n",
    "\n",
    "def input_changed(change):\n",
    "    try:\n",
    "        B = float(bright.value)\n",
    "        d = float(dist_lum.value)\n",
    "    except (ValueError, ZeroDivisionError):\n",
    "        lum_result.value = ''\n",
    "    else:\n",
    "        L = lum(B, d)\n",
    "        lum_result.value = '{:15.7g} L_sun'.format(L)\n",
    "\n",
    "dist_lum.observe(input_changed, names='value')\n",
    "bright.observe(input_changed, names='value')\n",
    "lum_holder.children = [lum_header, lum_version]"
   ]
  },
  {
   "cell_type": "code",
   "execution_count": null,
   "metadata": {},
   "outputs": [],
   "source": [
    "def dist(B, L):\n",
    "    from math import sqrt\n",
    "    try:\n",
    "        return sqrt(L/(4 * pi * B))\n",
    "    except ZeroDivisionError:\n",
    "        return None"
   ]
  },
  {
   "cell_type": "code",
   "execution_count": null,
   "metadata": {},
   "outputs": [],
   "source": [
    "dist_holder = ipw.VBox()\n",
    "dist_version = ipw.Box()\n",
    "\n",
    "dist_header = ipw.HTML(\"<h2>Calculate distance if you know luminosity and brightness</h2>\")\n",
    "bright_dist = new_bright()\n",
    "lum_box = new_lum()\n",
    "d_eq = ipw.Label('$d = \\sqrt{L/(4\\pi B)} = $')\n",
    "squirt = ipw.Label('$\\sqrt{}$')\n",
    "div_by = ipw.Label('/($4\\pi$')\n",
    "rpen = ipw.Label(')')\n",
    "\n",
    "dist_result = ipw.Label()\n",
    "\n",
    "def dist_input_changed(change):\n",
    "    try:\n",
    "        B = float(bright_dist.value)\n",
    "        L = float(lum_box.value)\n",
    "    except ValueError:\n",
    "        dist_result.value = ''\n",
    "    else:\n",
    "        d = dist(B, L) \n",
    "        if d is not None:\n",
    "            dist_result.value = '{:15.7g} pc'.format(d)\n",
    "        else:\n",
    "            dist_result.value = ''\n",
    "\n",
    "bright_dist.observe(dist_input_changed, names='value')\n",
    "lum_box.observe(dist_input_changed, names='value')\n",
    "\n",
    "dist_version.children = [d_eq, squirt, lum_box, div_by, bright_dist, rpen, equal, dist_result]\n",
    "\n",
    "dist_holder.children = [dist_header, dist_version]"
   ]
  },
  {
   "cell_type": "code",
   "execution_count": null,
   "metadata": {},
   "outputs": [],
   "source": [
    "tabs = ipw.Tab()\n",
    "tabs.children = [dist_holder, lum_holder]\n",
    "tabs.set_title(0, 'Find distance')\n",
    "tabs.set_title(1, 'Find luminosity')\n",
    "tabs"
   ]
  }
 ],
 "metadata": {
  "kernelspec": {
   "display_name": "Python 3",
   "language": "python",
   "name": "python3"
  },
  "language_info": {
   "codemirror_mode": {
    "name": "ipython",
    "version": 3
   },
   "file_extension": ".py",
   "mimetype": "text/x-python",
   "name": "python",
   "nbconvert_exporter": "python",
   "pygments_lexer": "ipython3",
   "version": "3.7.3"
  },
  "toc": {
   "base_numbering": 1,
   "nav_menu": {},
   "number_sections": true,
   "sideBar": true,
   "skip_h1_title": true,
   "title_cell": "Table of Contents",
   "title_sidebar": "Contents",
   "toc_cell": true,
   "toc_position": {},
   "toc_section_display": true,
   "toc_window_display": false
  }
 },
 "nbformat": 4,
 "nbformat_minor": 2
}
